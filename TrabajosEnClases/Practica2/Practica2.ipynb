{
 "cells": [
  {
   "cell_type": "markdown",
   "metadata": {},
   "source": [
    "#Nombres"
   ]
  },
  {
   "cell_type": "code",
   "execution_count": 1,
   "metadata": {},
   "outputs": [],
   "source": [
    "#Importamos las librerias Necesarias\n",
    "import matplotlib.pyplot as plt\n",
    "import numpy as np\n",
    "import pandas as pd\n",
    "import io\n",
    "import plotly.graph_objects as go"
   ]
  },
  {
   "cell_type": "code",
   "execution_count": 2,
   "metadata": {},
   "outputs": [],
   "source": [
    "#Leemos todos los csv\n",
    "dfx = pd.read_excel('./DataCleaning/DataCleaning/Numero_grupos_ofertados_cohorte_2016_2017_49_marzo2022.xlsx') \n",
    "df1 = pd.read_excel('./DataCleaning/DataCleaning/Numero_grupos_ofertados_cohorte_2017_2017_50_marzo2022.xlsx') \n",
    "df2 = pd.read_excel('./DataCleaning/DataCleaning/Numero_grupos_ofertados_cohorte_2017_2018_51_marzo2022.xlsx')\n",
    "df3 = pd.read_excel('./DataCleaning/DataCleaning/Numero_grupos_ofertados_cohorte_2018_2018_52_marzo2022.xlsx')\n",
    "df4 = pd.read_excel('./DataCleaning/DataCleaning/Numero_grupos_ofertados_cohorte_2018_2019_53_marzo2022.xlsx')\n",
    "df5 = pd.read_excel('./DataCleaning/DataCleaning/Numero_grupos_ofertados_cohorte_2019_2019_54_marzo2022.xlsx')\n",
    "df6 = pd.read_excel('./DataCleaning/DataCleaning/Numero_grupos_ofertados_cohorte_2020_2019_55_marzo2022.xlsx')\n",
    "df7 = pd.read_excel('./DataCleaning/DataCleaning/Numero_grupos_ofertados_cohorte_2020_2020_56_marzo2022.xlsx')\n",
    "df8 = pd.read_excel('./DataCleaning/DataCleaning/Numero_grupos_ofertados_cohorte_2020_2021_57_marzo2022.xlsx')\n",
    "df9 = pd.read_excel('./DataCleaning/DataCleaning/Numero_grupos_ofertados_cohorte_2021_2021_58_marzo2022.xlsx')\n",
    "df0 = pd.read_excel('./DataCleaning/DataCleaning/Numero_grupos_ofertados_cohorte_2021_2022_59_marzo2022.xlsx')"
   ]
  },
  {
   "cell_type": "code",
   "execution_count": 16,
   "metadata": {},
   "outputs": [
    {
     "data": {
      "text/html": [
       "<div>\n",
       "<style scoped>\n",
       "    .dataframe tbody tr th:only-of-type {\n",
       "        vertical-align: middle;\n",
       "    }\n",
       "\n",
       "    .dataframe tbody tr th {\n",
       "        vertical-align: top;\n",
       "    }\n",
       "\n",
       "    .dataframe thead th {\n",
       "        text-align: right;\n",
       "    }\n",
       "</style>\n",
       "<table border=\"1\" class=\"dataframe\">\n",
       "  <thead>\n",
       "    <tr style=\"text-align: right;\">\n",
       "      <th></th>\n",
       "      <th>COHORTE</th>\n",
       "      <th>PERÍODO ACADÉMICO CURSA</th>\n",
       "      <th>SEDE</th>\n",
       "      <th>CAMPUS</th>\n",
       "      <th>CARRERA</th>\n",
       "      <th>ÁREA</th>\n",
       "      <th>MODALIDAD</th>\n",
       "      <th>TIPO PROYECTOEDUCATIVO</th>\n",
       "      <th>NRO ALUMNOS</th>\n",
       "    </tr>\n",
       "  </thead>\n",
       "  <tbody>\n",
       "    <tr>\n",
       "      <th>0</th>\n",
       "      <td>2016 - 2017</td>\n",
       "      <td>2016 - 2017</td>\n",
       "      <td>GUAYAQUIL</td>\n",
       "      <td>CENTENARIO</td>\n",
       "      <td>COMPUTACIÓN</td>\n",
       "      <td>CIENCIA Y TECNOLOGÍA</td>\n",
       "      <td>PRESENCIAL</td>\n",
       "      <td>NUEVA O REDISEÑO</td>\n",
       "      <td>69</td>\n",
       "    </tr>\n",
       "    <tr>\n",
       "      <th>1</th>\n",
       "      <td>2016 - 2017</td>\n",
       "      <td>2016 - 2017</td>\n",
       "      <td>GUAYAQUIL</td>\n",
       "      <td>CENTENARIO</td>\n",
       "      <td>ELECTRICIDAD</td>\n",
       "      <td>CIENCIA Y TECNOLOGÍA</td>\n",
       "      <td>PRESENCIAL</td>\n",
       "      <td>NUEVA O REDISEÑO</td>\n",
       "      <td>50</td>\n",
       "    </tr>\n",
       "    <tr>\n",
       "      <th>2</th>\n",
       "      <td>2016 - 2017</td>\n",
       "      <td>2016 - 2017</td>\n",
       "      <td>MATRIZ CUENCA</td>\n",
       "      <td>EL VECINO</td>\n",
       "      <td>COMPUTACIÓN</td>\n",
       "      <td>CIENCIA Y TECNOLOGÍA</td>\n",
       "      <td>PRESENCIAL</td>\n",
       "      <td>NUEVA O REDISEÑO</td>\n",
       "      <td>124</td>\n",
       "    </tr>\n",
       "    <tr>\n",
       "      <th>3</th>\n",
       "      <td>2016 - 2017</td>\n",
       "      <td>2016 - 2017</td>\n",
       "      <td>MATRIZ CUENCA</td>\n",
       "      <td>EL VECINO</td>\n",
       "      <td>EDUCACIÓN BÁSICA</td>\n",
       "      <td>EDUCACION</td>\n",
       "      <td>PRESENCIAL</td>\n",
       "      <td>NUEVA O REDISEÑO</td>\n",
       "      <td>38</td>\n",
       "    </tr>\n",
       "    <tr>\n",
       "      <th>4</th>\n",
       "      <td>2016 - 2017</td>\n",
       "      <td>2016 - 2017</td>\n",
       "      <td>MATRIZ CUENCA</td>\n",
       "      <td>EL VECINO</td>\n",
       "      <td>EDUCACIÓN INICIAL</td>\n",
       "      <td>EDUCACION</td>\n",
       "      <td>PRESENCIAL</td>\n",
       "      <td>NUEVA O REDISEÑO</td>\n",
       "      <td>28</td>\n",
       "    </tr>\n",
       "  </tbody>\n",
       "</table>\n",
       "</div>"
      ],
      "text/plain": [
       "       COHORTE PERÍODO ACADÉMICO CURSA           SEDE      CAMPUS  \\\n",
       "0  2016 - 2017             2016 - 2017      GUAYAQUIL  CENTENARIO   \n",
       "1  2016 - 2017             2016 - 2017      GUAYAQUIL  CENTENARIO   \n",
       "2  2016 - 2017             2016 - 2017  MATRIZ CUENCA   EL VECINO   \n",
       "3  2016 - 2017             2016 - 2017  MATRIZ CUENCA   EL VECINO   \n",
       "4  2016 - 2017             2016 - 2017  MATRIZ CUENCA   EL VECINO   \n",
       "\n",
       "             CARRERA                  ÁREA   MODALIDAD TIPO PROYECTOEDUCATIVO  \\\n",
       "0        COMPUTACIÓN  CIENCIA Y TECNOLOGÍA  PRESENCIAL       NUEVA O REDISEÑO   \n",
       "1       ELECTRICIDAD  CIENCIA Y TECNOLOGÍA  PRESENCIAL       NUEVA O REDISEÑO   \n",
       "2        COMPUTACIÓN  CIENCIA Y TECNOLOGÍA  PRESENCIAL       NUEVA O REDISEÑO   \n",
       "3   EDUCACIÓN BÁSICA             EDUCACION  PRESENCIAL       NUEVA O REDISEÑO   \n",
       "4  EDUCACIÓN INICIAL             EDUCACION  PRESENCIAL       NUEVA O REDISEÑO   \n",
       "\n",
       "   NRO ALUMNOS  \n",
       "0           69  \n",
       "1           50  \n",
       "2          124  \n",
       "3           38  \n",
       "4           28  "
      ]
     },
     "execution_count": 16,
     "metadata": {},
     "output_type": "execute_result"
    }
   ],
   "source": [
    "#Concatenamos todos los archivos\n",
    "df = pd.concat([dfx, df1, df2, df3, df4, df5, df6, df7, df8, df9, df0], ignore_index = True)\n",
    "df.head()"
   ]
  },
  {
   "cell_type": "code",
   "execution_count": 17,
   "metadata": {},
   "outputs": [
    {
     "data": {
      "text/plain": [
       "2947"
      ]
     },
     "execution_count": 17,
     "metadata": {},
     "output_type": "execute_result"
    }
   ],
   "source": [
    "#Limpieza de datos\n",
    "df.drop(df[df['PERÍODO ACADÉMICO CURSA'] == '2022 - 2022'].index, inplace = True)\n",
    "len(df.index)"
   ]
  },
  {
   "cell_type": "code",
   "execution_count": 18,
   "metadata": {},
   "outputs": [],
   "source": [
    "cohortes = df.COHORTE.unique()\n",
    "sedes = df.SEDE.unique()\n",
    "campus = df.CAMPUS.unique()\n",
    "carreras = df.CARRERA.unique()\n",
    "areas = df.ÁREA.unique()"
   ]
  },
  {
   "cell_type": "code",
   "execution_count": 22,
   "metadata": {},
   "outputs": [
    {
     "data": {
      "text/plain": [
       "array(['GUAYAQUIL', 'MATRIZ CUENCA', 'QUITO'], dtype=object)"
      ]
     },
     "execution_count": 22,
     "metadata": {},
     "output_type": "execute_result"
    }
   ],
   "source": [
    "sedes"
   ]
  },
  {
   "cell_type": "markdown",
   "metadata": {},
   "source": [
    "Practica 1"
   ]
  },
  {
   "cell_type": "code",
   "execution_count": 31,
   "metadata": {},
   "outputs": [],
   "source": [
    "#A nivel de Area por cohortes\n",
    "dx = df.loc[df['ÁREA'] == 'CIENCIAS ADMINISTRATIVAS Y ECONÓMICAS']\n",
    "dy = dx.loc[dx['CARRERA'] == 'ADMINISTRACIÓN DE EMPRESAS']\n",
    "dz = dy.loc[dy['SEDE'] == 'MATRIZ CUENCA']\n",
    "\n",
    "cohovalues = []\n",
    "for coho in cohortes:\n",
    "    d = dz.loc[df['COHORTE'] == coho]\n",
    "    cohovalues.append(d['NRO ALUMNOS'].astype(float))\n",
    "\n"
   ]
  },
  {
   "cell_type": "code",
   "execution_count": 38,
   "metadata": {},
   "outputs": [
    {
     "data": {
      "text/plain": [
       "2633    64.0\n",
       "2699    52.0\n",
       "2765    48.0\n",
       "Name: NRO ALUMNOS, dtype: float64"
      ]
     },
     "execution_count": 38,
     "metadata": {},
     "output_type": "execute_result"
    }
   ],
   "source": [
    "cohovalues[8]"
   ]
  },
  {
   "cell_type": "code",
   "execution_count": 32,
   "metadata": {},
   "outputs": [
    {
     "name": "stderr",
     "output_type": "stream",
     "text": [
      "d:\\Programas\\Python\\lib\\site-packages\\numpy\\core\\shape_base.py:65: VisibleDeprecationWarning: Creating an ndarray from ragged nested sequences (which is a list-or-tuple of lists-or-tuples-or ndarrays with different lengths or shapes) is deprecated. If you meant to do this, you must specify 'dtype=object' when creating the ndarray.\n",
      "  ary = asanyarray(ary)\n"
     ]
    },
    {
     "ename": "ValueError",
     "evalue": "setting an array element with a sequence.",
     "output_type": "error",
     "traceback": [
      "\u001b[1;31m---------------------------------------------------------------------------\u001b[0m",
      "\u001b[1;31mTypeError\u001b[0m                                 Traceback (most recent call last)",
      "File \u001b[1;32md:\\Programas\\Python\\lib\\site-packages\\pandas\\core\\series.py:191\u001b[0m, in \u001b[0;36m_coerce_method.<locals>.wrapper\u001b[1;34m(self)\u001b[0m\n\u001b[0;32m    <a href='file:///d%3A/Programas/Python/lib/site-packages/pandas/core/series.py?line=189'>190</a>\u001b[0m     \u001b[39mreturn\u001b[39;00m converter(\u001b[39mself\u001b[39m\u001b[39m.\u001b[39miloc[\u001b[39m0\u001b[39m])\n\u001b[1;32m--> <a href='file:///d%3A/Programas/Python/lib/site-packages/pandas/core/series.py?line=190'>191</a>\u001b[0m \u001b[39mraise\u001b[39;00m \u001b[39mTypeError\u001b[39;00m(\u001b[39mf\u001b[39m\u001b[39m\"\u001b[39m\u001b[39mcannot convert the series to \u001b[39m\u001b[39m{\u001b[39;00mconverter\u001b[39m}\u001b[39;00m\u001b[39m\"\u001b[39m)\n",
      "\u001b[1;31mTypeError\u001b[0m: cannot convert the series to <class 'float'>",
      "\nThe above exception was the direct cause of the following exception:\n",
      "\u001b[1;31mValueError\u001b[0m                                Traceback (most recent call last)",
      "\u001b[1;32md:\\Trabajos\\Periodo60\\PracticasNegocios\\TrabajosEnClases\\Practica2\\Practica2.ipynb Cell 10'\u001b[0m in \u001b[0;36m<cell line: 5>\u001b[1;34m()\u001b[0m\n\u001b[0;32m      <a href='vscode-notebook-cell:/d%3A/Trabajos/Periodo60/PracticasNegocios/TrabajosEnClases/Practica2/Practica2.ipynb#ch0000018?line=0'>1</a>\u001b[0m plt\u001b[39m.\u001b[39mfigure()\n\u001b[0;32m      <a href='vscode-notebook-cell:/d%3A/Trabajos/Periodo60/PracticasNegocios/TrabajosEnClases/Practica2/Practica2.ipynb#ch0000018?line=2'>3</a>\u001b[0m plt\u001b[39m.\u001b[39mtitle(\u001b[39m'\u001b[39m\u001b[39mMatriculados por \u001b[39m\u001b[39m'\u001b[39m\u001b[39m+\u001b[39m\u001b[39m'\u001b[39m\u001b[39mCarrera\u001b[39m\u001b[39m'\u001b[39m\u001b[39m+\u001b[39m\u001b[39m'\u001b[39m\u001b[39m en sede \u001b[39m\u001b[39m'\u001b[39m\u001b[39m+\u001b[39m\u001b[39m'\u001b[39m\u001b[39mCuenca\u001b[39m\u001b[39m'\u001b[39m)\n\u001b[1;32m----> <a href='vscode-notebook-cell:/d%3A/Trabajos/Periodo60/PracticasNegocios/TrabajosEnClases/Practica2/Practica2.ipynb#ch0000018?line=4'>5</a>\u001b[0m plt\u001b[39m.\u001b[39;49mplot([\u001b[39m49\u001b[39;49m,\u001b[39m50\u001b[39;49m,\u001b[39m51\u001b[39;49m,\u001b[39m52\u001b[39;49m,\u001b[39m53\u001b[39;49m,\u001b[39m54\u001b[39;49m,\u001b[39m55\u001b[39;49m,\u001b[39m56\u001b[39;49m,\u001b[39m57\u001b[39;49m,\u001b[39m58\u001b[39;49m,\u001b[39m59\u001b[39;49m], cohovalues, \u001b[39m'\u001b[39;49m\u001b[39mb.-\u001b[39;49m\u001b[39m'\u001b[39;49m)\n\u001b[0;32m      <a href='vscode-notebook-cell:/d%3A/Trabajos/Periodo60/PracticasNegocios/TrabajosEnClases/Practica2/Practica2.ipynb#ch0000018?line=6'>7</a>\u001b[0m plt\u001b[39m.\u001b[39mxticks(cohortes\u001b[39m.\u001b[39mtolist())\n\u001b[0;32m      <a href='vscode-notebook-cell:/d%3A/Trabajos/Periodo60/PracticasNegocios/TrabajosEnClases/Practica2/Practica2.ipynb#ch0000018?line=8'>9</a>\u001b[0m plt\u001b[39m.\u001b[39mxlabel(\u001b[39m'\u001b[39m\u001b[39mAnio\u001b[39m\u001b[39m'\u001b[39m)\n",
      "File \u001b[1;32md:\\Programas\\Python\\lib\\site-packages\\matplotlib\\pyplot.py:2757\u001b[0m, in \u001b[0;36mplot\u001b[1;34m(scalex, scaley, data, *args, **kwargs)\u001b[0m\n\u001b[0;32m   <a href='file:///d%3A/Programas/Python/lib/site-packages/matplotlib/pyplot.py?line=2754'>2755</a>\u001b[0m \u001b[39m@_copy_docstring_and_deprecators\u001b[39m(Axes\u001b[39m.\u001b[39mplot)\n\u001b[0;32m   <a href='file:///d%3A/Programas/Python/lib/site-packages/matplotlib/pyplot.py?line=2755'>2756</a>\u001b[0m \u001b[39mdef\u001b[39;00m \u001b[39mplot\u001b[39m(\u001b[39m*\u001b[39margs, scalex\u001b[39m=\u001b[39m\u001b[39mTrue\u001b[39;00m, scaley\u001b[39m=\u001b[39m\u001b[39mTrue\u001b[39;00m, data\u001b[39m=\u001b[39m\u001b[39mNone\u001b[39;00m, \u001b[39m*\u001b[39m\u001b[39m*\u001b[39mkwargs):\n\u001b[1;32m-> <a href='file:///d%3A/Programas/Python/lib/site-packages/matplotlib/pyplot.py?line=2756'>2757</a>\u001b[0m     \u001b[39mreturn\u001b[39;00m gca()\u001b[39m.\u001b[39mplot(\n\u001b[0;32m   <a href='file:///d%3A/Programas/Python/lib/site-packages/matplotlib/pyplot.py?line=2757'>2758</a>\u001b[0m         \u001b[39m*\u001b[39margs, scalex\u001b[39m=\u001b[39mscalex, scaley\u001b[39m=\u001b[39mscaley,\n\u001b[0;32m   <a href='file:///d%3A/Programas/Python/lib/site-packages/matplotlib/pyplot.py?line=2758'>2759</a>\u001b[0m         \u001b[39m*\u001b[39m\u001b[39m*\u001b[39m({\u001b[39m\"\u001b[39m\u001b[39mdata\u001b[39m\u001b[39m\"\u001b[39m: data} \u001b[39mif\u001b[39;00m data \u001b[39mis\u001b[39;00m \u001b[39mnot\u001b[39;00m \u001b[39mNone\u001b[39;00m \u001b[39melse\u001b[39;00m {}), \u001b[39m*\u001b[39m\u001b[39m*\u001b[39mkwargs)\n",
      "File \u001b[1;32md:\\Programas\\Python\\lib\\site-packages\\matplotlib\\axes\\_axes.py:1634\u001b[0m, in \u001b[0;36mAxes.plot\u001b[1;34m(self, scalex, scaley, data, *args, **kwargs)\u001b[0m\n\u001b[0;32m   <a href='file:///d%3A/Programas/Python/lib/site-packages/matplotlib/axes/_axes.py?line=1631'>1632</a>\u001b[0m lines \u001b[39m=\u001b[39m [\u001b[39m*\u001b[39m\u001b[39mself\u001b[39m\u001b[39m.\u001b[39m_get_lines(\u001b[39m*\u001b[39margs, data\u001b[39m=\u001b[39mdata, \u001b[39m*\u001b[39m\u001b[39m*\u001b[39mkwargs)]\n\u001b[0;32m   <a href='file:///d%3A/Programas/Python/lib/site-packages/matplotlib/axes/_axes.py?line=1632'>1633</a>\u001b[0m \u001b[39mfor\u001b[39;00m line \u001b[39min\u001b[39;00m lines:\n\u001b[1;32m-> <a href='file:///d%3A/Programas/Python/lib/site-packages/matplotlib/axes/_axes.py?line=1633'>1634</a>\u001b[0m     \u001b[39mself\u001b[39;49m\u001b[39m.\u001b[39;49madd_line(line)\n\u001b[0;32m   <a href='file:///d%3A/Programas/Python/lib/site-packages/matplotlib/axes/_axes.py?line=1634'>1635</a>\u001b[0m \u001b[39mself\u001b[39m\u001b[39m.\u001b[39m_request_autoscale_view(scalex\u001b[39m=\u001b[39mscalex, scaley\u001b[39m=\u001b[39mscaley)\n\u001b[0;32m   <a href='file:///d%3A/Programas/Python/lib/site-packages/matplotlib/axes/_axes.py?line=1635'>1636</a>\u001b[0m \u001b[39mreturn\u001b[39;00m lines\n",
      "File \u001b[1;32md:\\Programas\\Python\\lib\\site-packages\\matplotlib\\axes\\_base.py:2283\u001b[0m, in \u001b[0;36m_AxesBase.add_line\u001b[1;34m(self, line)\u001b[0m\n\u001b[0;32m   <a href='file:///d%3A/Programas/Python/lib/site-packages/matplotlib/axes/_base.py?line=2279'>2280</a>\u001b[0m \u001b[39mif\u001b[39;00m line\u001b[39m.\u001b[39mget_clip_path() \u001b[39mis\u001b[39;00m \u001b[39mNone\u001b[39;00m:\n\u001b[0;32m   <a href='file:///d%3A/Programas/Python/lib/site-packages/matplotlib/axes/_base.py?line=2280'>2281</a>\u001b[0m     line\u001b[39m.\u001b[39mset_clip_path(\u001b[39mself\u001b[39m\u001b[39m.\u001b[39mpatch)\n\u001b[1;32m-> <a href='file:///d%3A/Programas/Python/lib/site-packages/matplotlib/axes/_base.py?line=2282'>2283</a>\u001b[0m \u001b[39mself\u001b[39;49m\u001b[39m.\u001b[39;49m_update_line_limits(line)\n\u001b[0;32m   <a href='file:///d%3A/Programas/Python/lib/site-packages/matplotlib/axes/_base.py?line=2283'>2284</a>\u001b[0m \u001b[39mif\u001b[39;00m \u001b[39mnot\u001b[39;00m line\u001b[39m.\u001b[39mget_label():\n\u001b[0;32m   <a href='file:///d%3A/Programas/Python/lib/site-packages/matplotlib/axes/_base.py?line=2284'>2285</a>\u001b[0m     line\u001b[39m.\u001b[39mset_label(\u001b[39mf\u001b[39m\u001b[39m'\u001b[39m\u001b[39m_child\u001b[39m\u001b[39m{\u001b[39;00m\u001b[39mlen\u001b[39m(\u001b[39mself\u001b[39m\u001b[39m.\u001b[39m_children)\u001b[39m}\u001b[39;00m\u001b[39m'\u001b[39m)\n",
      "File \u001b[1;32md:\\Programas\\Python\\lib\\site-packages\\matplotlib\\axes\\_base.py:2306\u001b[0m, in \u001b[0;36m_AxesBase._update_line_limits\u001b[1;34m(self, line)\u001b[0m\n\u001b[0;32m   <a href='file:///d%3A/Programas/Python/lib/site-packages/matplotlib/axes/_base.py?line=2301'>2302</a>\u001b[0m \u001b[39mdef\u001b[39;00m \u001b[39m_update_line_limits\u001b[39m(\u001b[39mself\u001b[39m, line):\n\u001b[0;32m   <a href='file:///d%3A/Programas/Python/lib/site-packages/matplotlib/axes/_base.py?line=2302'>2303</a>\u001b[0m     \u001b[39m\"\"\"\u001b[39;00m\n\u001b[0;32m   <a href='file:///d%3A/Programas/Python/lib/site-packages/matplotlib/axes/_base.py?line=2303'>2304</a>\u001b[0m \u001b[39m    Figures out the data limit of the given line, updating self.dataLim.\u001b[39;00m\n\u001b[0;32m   <a href='file:///d%3A/Programas/Python/lib/site-packages/matplotlib/axes/_base.py?line=2304'>2305</a>\u001b[0m \u001b[39m    \"\"\"\u001b[39;00m\n\u001b[1;32m-> <a href='file:///d%3A/Programas/Python/lib/site-packages/matplotlib/axes/_base.py?line=2305'>2306</a>\u001b[0m     path \u001b[39m=\u001b[39m line\u001b[39m.\u001b[39;49mget_path()\n\u001b[0;32m   <a href='file:///d%3A/Programas/Python/lib/site-packages/matplotlib/axes/_base.py?line=2306'>2307</a>\u001b[0m     \u001b[39mif\u001b[39;00m path\u001b[39m.\u001b[39mvertices\u001b[39m.\u001b[39msize \u001b[39m==\u001b[39m \u001b[39m0\u001b[39m:\n\u001b[0;32m   <a href='file:///d%3A/Programas/Python/lib/site-packages/matplotlib/axes/_base.py?line=2307'>2308</a>\u001b[0m         \u001b[39mreturn\u001b[39;00m\n",
      "File \u001b[1;32md:\\Programas\\Python\\lib\\site-packages\\matplotlib\\lines.py:999\u001b[0m, in \u001b[0;36mLine2D.get_path\u001b[1;34m(self)\u001b[0m\n\u001b[0;32m    <a href='file:///d%3A/Programas/Python/lib/site-packages/matplotlib/lines.py?line=996'>997</a>\u001b[0m \u001b[39m\"\"\"Return the `~matplotlib.path.Path` associated with this line.\"\"\"\u001b[39;00m\n\u001b[0;32m    <a href='file:///d%3A/Programas/Python/lib/site-packages/matplotlib/lines.py?line=997'>998</a>\u001b[0m \u001b[39mif\u001b[39;00m \u001b[39mself\u001b[39m\u001b[39m.\u001b[39m_invalidy \u001b[39mor\u001b[39;00m \u001b[39mself\u001b[39m\u001b[39m.\u001b[39m_invalidx:\n\u001b[1;32m--> <a href='file:///d%3A/Programas/Python/lib/site-packages/matplotlib/lines.py?line=998'>999</a>\u001b[0m     \u001b[39mself\u001b[39;49m\u001b[39m.\u001b[39;49mrecache()\n\u001b[0;32m   <a href='file:///d%3A/Programas/Python/lib/site-packages/matplotlib/lines.py?line=999'>1000</a>\u001b[0m \u001b[39mreturn\u001b[39;00m \u001b[39mself\u001b[39m\u001b[39m.\u001b[39m_path\n",
      "File \u001b[1;32md:\\Programas\\Python\\lib\\site-packages\\matplotlib\\lines.py:657\u001b[0m, in \u001b[0;36mLine2D.recache\u001b[1;34m(self, always)\u001b[0m\n\u001b[0;32m    <a href='file:///d%3A/Programas/Python/lib/site-packages/matplotlib/lines.py?line=654'>655</a>\u001b[0m \u001b[39mif\u001b[39;00m always \u001b[39mor\u001b[39;00m \u001b[39mself\u001b[39m\u001b[39m.\u001b[39m_invalidy:\n\u001b[0;32m    <a href='file:///d%3A/Programas/Python/lib/site-packages/matplotlib/lines.py?line=655'>656</a>\u001b[0m     yconv \u001b[39m=\u001b[39m \u001b[39mself\u001b[39m\u001b[39m.\u001b[39mconvert_yunits(\u001b[39mself\u001b[39m\u001b[39m.\u001b[39m_yorig)\n\u001b[1;32m--> <a href='file:///d%3A/Programas/Python/lib/site-packages/matplotlib/lines.py?line=656'>657</a>\u001b[0m     y \u001b[39m=\u001b[39m _to_unmasked_float_array(yconv)\u001b[39m.\u001b[39mravel()\n\u001b[0;32m    <a href='file:///d%3A/Programas/Python/lib/site-packages/matplotlib/lines.py?line=657'>658</a>\u001b[0m \u001b[39melse\u001b[39;00m:\n\u001b[0;32m    <a href='file:///d%3A/Programas/Python/lib/site-packages/matplotlib/lines.py?line=658'>659</a>\u001b[0m     y \u001b[39m=\u001b[39m \u001b[39mself\u001b[39m\u001b[39m.\u001b[39m_y\n",
      "File \u001b[1;32md:\\Programas\\Python\\lib\\site-packages\\matplotlib\\cbook\\__init__.py:1298\u001b[0m, in \u001b[0;36m_to_unmasked_float_array\u001b[1;34m(x)\u001b[0m\n\u001b[0;32m   <a href='file:///d%3A/Programas/Python/lib/site-packages/matplotlib/cbook/__init__.py?line=1295'>1296</a>\u001b[0m     \u001b[39mreturn\u001b[39;00m np\u001b[39m.\u001b[39mma\u001b[39m.\u001b[39masarray(x, \u001b[39mfloat\u001b[39m)\u001b[39m.\u001b[39mfilled(np\u001b[39m.\u001b[39mnan)\n\u001b[0;32m   <a href='file:///d%3A/Programas/Python/lib/site-packages/matplotlib/cbook/__init__.py?line=1296'>1297</a>\u001b[0m \u001b[39melse\u001b[39;00m:\n\u001b[1;32m-> <a href='file:///d%3A/Programas/Python/lib/site-packages/matplotlib/cbook/__init__.py?line=1297'>1298</a>\u001b[0m     \u001b[39mreturn\u001b[39;00m np\u001b[39m.\u001b[39;49masarray(x, \u001b[39mfloat\u001b[39;49m)\n",
      "\u001b[1;31mValueError\u001b[0m: setting an array element with a sequence."
     ]
    },
    {
     "data": {
      "image/png": "[encoded data removed]",
      "text/plain": [
       "<Figure size 432x288 with 1 Axes>"
      ]
     },
     "metadata": {
      "needs_background": "light"
     },
     "output_type": "display_data"
    }
   ],
   "source": [
    "plt.figure()\n",
    "\n",
    "plt.title('Matriculados por '+'Carrera'+' en sede '+'Cuenca')\n",
    "\n",
    "plt.plot([49,50,51,52,53,54,55,56,57,58,59], cohovalues[], 'b.-')\n",
    "\n",
    "plt.xticks(cohortes.tolist())\n",
    "\n",
    "plt.xlabel('Anio')\n",
    "plt.ylabel('Valor Dolares')\n",
    "plt.legend()\n",
    "plt.show()"
   ]
  },
  {
   "cell_type": "code",
   "execution_count": null,
   "metadata": {},
   "outputs": [],
   "source": [
    "plt.figure()\n",
    "\n",
    "plt.title('Precios del Gas')\n",
    "\n",
    "plt.plot(dy.loc[df['COHORTE'] == '2017 - 2017'], datos.USA, 'b.-')\n",
    "plt.plot(datos.Year, datos.Canada, 'r.-')\n",
    "plt.plot(datos.Year, datos.Australia, 'y.-')\n",
    "\n",
    "plt.xticks(datos.Year[::3].tolist())\n",
    "\n",
    "plt.xlabel('Anio')\n",
    "plt.ylabel('Valor Dolares')\n",
    "plt.legend()\n",
    "plt.show()"
   ]
  },
  {
   "cell_type": "code",
   "execution_count": 14,
   "metadata": {},
   "outputs": [
    {
     "data": {
      "text/plain": [
       "array(['ADMINISTRACIÓN DE EMPRESAS', 'CONTABILIDAD Y AUDITORÍA',\n",
       "       'GERENCIA Y LIDERAZGO', 'ECONOMÍA', 'DESARROLLO LOCAL',\n",
       "       'CONTABILIDAD Y AUDITORIA [EN LINEA]'], dtype=object)"
      ]
     },
     "execution_count": 14,
     "metadata": {},
     "output_type": "execute_result"
    }
   ],
   "source": [
    "carrlabels"
   ]
  },
  {
   "cell_type": "code",
   "execution_count": 8,
   "metadata": {},
   "outputs": [
    {
     "data": {
      "image/png": "[encoded data removed]",
      "text/plain": [
       "<Figure size 432x288 with 1 Axes>"
      ]
     },
     "metadata": {
      "needs_background": "light"
     },
     "output_type": "display_data"
    }
   ],
   "source": [
    "#A nivel de Area\n",
    "carrvalues = []\n",
    "for carrera in carreras:\n",
    "    dx = df.loc[df['CARRERA'] == carrera]\n",
    "    carrvalues.append(dx['NRO ALUMNOS'].sum())\n",
    "\n",
    "plt.figure()\n",
    "plt.xticks(rotation = 90)\n",
    "plt.title(\"Analisis por Cohorte\")\n",
    "barras = plt.bar(cohortes, cohovalues, color=(0.1, 0.1, 0.1, 0.1),edgecolor='red')"
   ]
  }
 ],
 "metadata": {
  "interpreter": {
   "hash": "e788497cb3569157be8e656aed1f4beb46e0ad7c9c943d25fb630c9e375e334a"
  },
  "kernelspec": {
   "display_name": "Python 3.10.4 64-bit",
   "language": "python",
   "name": "python3"
  },
  "language_info": {
   "codemirror_mode": {
    "name": "ipython",
    "version": 3
   },
   "file_extension": ".py",
   "mimetype": "text/x-python",
   "name": "python",
   "nbconvert_exporter": "python",
   "pygments_lexer": "ipython3",
   "version": "3.10.4"
  },
  "orig_nbformat": 4
 },
 "nbformat": 4,
 "nbformat_minor": 2
}
