{
 "cells": [
  {
   "cell_type": "markdown",
   "metadata": {},
   "source": [
    "## Practica 2 - Graficos Interactivos\n",
    "\n",
    "#### Integrantes\n",
    "- Juan Francisco Pelaez Becerra\n",
    "- Diana Fernanda Tixi Uyaguari\n",
    "\n",
    "#### Fecha: 13/05/2022"
   ]
  },
  {
   "cell_type": "markdown",
   "metadata": {},
   "source": [
    "En base a los datos de las cohortes entregados previamente se deberá genera dos reportes según la asignación del docente.\n",
    "Para el desarrollo de los resportes se utilizara los siguientes datos: \n",
    "* Area: Ciencias Administrativas y Economicas \n",
    "* Carrera: Telecomunicaciones"
   ]
  },
  {
   "cell_type": "markdown",
   "metadata": {},
   "source": [
    "#### Instalacion de librerias necesarias para el funcionamiento"
   ]
  },
  {
   "cell_type": "code",
   "execution_count": 1,
   "metadata": {},
   "outputs": [],
   "source": [
    "#Librerias necesarias\n",
    "!pip install ipywidgets"
   ]
  },
  {
   "cell_type": "code",
   "execution_count": 63,
   "metadata": {},
   "outputs": [],
   "source": [
    "#Importamos las librerias Necesarias\n",
    "import matplotlib.pyplot as plt\n",
    "import numpy as np\n",
    "import pandas as pd\n",
    "import io\n",
    "import plotly.graph_objects as go\n",
    "from ipywidgets import interact, Dropdown"
   ]
  },
  {
   "cell_type": "markdown",
   "metadata": {},
   "source": [
    "##### 1. Cargamos los Dataset UPS - Cohorte \n"
   ]
  },
  {
   "cell_type": "code",
   "execution_count": 64,
   "metadata": {},
   "outputs": [],
   "source": [
    "#Leemos todos los csv\n",
    "dfx = pd.read_excel('./DataCleaning/DataCleaning/Numero_grupos_ofertados_cohorte_2016_2017_49_marzo2022.xlsx') \n",
    "df1 = pd.read_excel('./DataCleaning/DataCleaning/Numero_grupos_ofertados_cohorte_2017_2017_50_marzo2022.xlsx') \n",
    "df2 = pd.read_excel('./DataCleaning/DataCleaning/Numero_grupos_ofertados_cohorte_2017_2018_51_marzo2022.xlsx')\n",
    "df3 = pd.read_excel('./DataCleaning/DataCleaning/Numero_grupos_ofertados_cohorte_2018_2018_52_marzo2022.xlsx')\n",
    "df4 = pd.read_excel('./DataCleaning/DataCleaning/Numero_grupos_ofertados_cohorte_2018_2019_53_marzo2022.xlsx')\n",
    "df5 = pd.read_excel('./DataCleaning/DataCleaning/Numero_grupos_ofertados_cohorte_2019_2019_54_marzo2022.xlsx')\n",
    "df6 = pd.read_excel('./DataCleaning/DataCleaning/Numero_grupos_ofertados_cohorte_2020_2019_55_marzo2022.xlsx')\n",
    "df7 = pd.read_excel('./DataCleaning/DataCleaning/Numero_grupos_ofertados_cohorte_2020_2020_56_marzo2022.xlsx')\n",
    "df8 = pd.read_excel('./DataCleaning/DataCleaning/Numero_grupos_ofertados_cohorte_2020_2021_57_marzo2022.xlsx')\n",
    "df9 = pd.read_excel('./DataCleaning/DataCleaning/Numero_grupos_ofertados_cohorte_2021_2021_58_marzo2022.xlsx')\n",
    "df0 = pd.read_excel('./DataCleaning/DataCleaning/Numero_grupos_ofertados_cohorte_2021_2022_59_marzo2022.xlsx')"
   ]
  },
  {
   "cell_type": "markdown",
   "metadata": {},
   "source": [
    "##### 2. Creamos un solo dataset con toda la informacion previamente cargada"
   ]
  },
  {
   "cell_type": "code",
   "execution_count": 65,
   "metadata": {},
   "outputs": [
    {
     "data": {
      "text/html": [
       "<div>\n",
       "<style scoped>\n",
       "    .dataframe tbody tr th:only-of-type {\n",
       "        vertical-align: middle;\n",
       "    }\n",
       "\n",
       "    .dataframe tbody tr th {\n",
       "        vertical-align: top;\n",
       "    }\n",
       "\n",
       "    .dataframe thead th {\n",
       "        text-align: right;\n",
       "    }\n",
       "</style>\n",
       "<table border=\"1\" class=\"dataframe\">\n",
       "  <thead>\n",
       "    <tr style=\"text-align: right;\">\n",
       "      <th></th>\n",
       "      <th>COHORTE</th>\n",
       "      <th>PERÍODO ACADÉMICO CURSA</th>\n",
       "      <th>SEDE</th>\n",
       "      <th>CAMPUS</th>\n",
       "      <th>CARRERA</th>\n",
       "      <th>ÁREA</th>\n",
       "      <th>MODALIDAD</th>\n",
       "      <th>TIPO PROYECTOEDUCATIVO</th>\n",
       "      <th>NRO ALUMNOS</th>\n",
       "    </tr>\n",
       "  </thead>\n",
       "  <tbody>\n",
       "    <tr>\n",
       "      <th>0</th>\n",
       "      <td>2016 - 2017</td>\n",
       "      <td>2016 - 2017</td>\n",
       "      <td>GUAYAQUIL</td>\n",
       "      <td>CENTENARIO</td>\n",
       "      <td>COMPUTACIÓN</td>\n",
       "      <td>CIENCIA Y TECNOLOGÍA</td>\n",
       "      <td>PRESENCIAL</td>\n",
       "      <td>NUEVA O REDISEÑO</td>\n",
       "      <td>69</td>\n",
       "    </tr>\n",
       "    <tr>\n",
       "      <th>1</th>\n",
       "      <td>2016 - 2017</td>\n",
       "      <td>2016 - 2017</td>\n",
       "      <td>GUAYAQUIL</td>\n",
       "      <td>CENTENARIO</td>\n",
       "      <td>ELECTRICIDAD</td>\n",
       "      <td>CIENCIA Y TECNOLOGÍA</td>\n",
       "      <td>PRESENCIAL</td>\n",
       "      <td>NUEVA O REDISEÑO</td>\n",
       "      <td>50</td>\n",
       "    </tr>\n",
       "    <tr>\n",
       "      <th>2</th>\n",
       "      <td>2016 - 2017</td>\n",
       "      <td>2016 - 2017</td>\n",
       "      <td>MATRIZ CUENCA</td>\n",
       "      <td>EL VECINO</td>\n",
       "      <td>COMPUTACIÓN</td>\n",
       "      <td>CIENCIA Y TECNOLOGÍA</td>\n",
       "      <td>PRESENCIAL</td>\n",
       "      <td>NUEVA O REDISEÑO</td>\n",
       "      <td>124</td>\n",
       "    </tr>\n",
       "    <tr>\n",
       "      <th>3</th>\n",
       "      <td>2016 - 2017</td>\n",
       "      <td>2016 - 2017</td>\n",
       "      <td>MATRIZ CUENCA</td>\n",
       "      <td>EL VECINO</td>\n",
       "      <td>EDUCACIÓN BÁSICA</td>\n",
       "      <td>EDUCACION</td>\n",
       "      <td>PRESENCIAL</td>\n",
       "      <td>NUEVA O REDISEÑO</td>\n",
       "      <td>38</td>\n",
       "    </tr>\n",
       "    <tr>\n",
       "      <th>4</th>\n",
       "      <td>2016 - 2017</td>\n",
       "      <td>2016 - 2017</td>\n",
       "      <td>MATRIZ CUENCA</td>\n",
       "      <td>EL VECINO</td>\n",
       "      <td>EDUCACIÓN INICIAL</td>\n",
       "      <td>EDUCACION</td>\n",
       "      <td>PRESENCIAL</td>\n",
       "      <td>NUEVA O REDISEÑO</td>\n",
       "      <td>28</td>\n",
       "    </tr>\n",
       "  </tbody>\n",
       "</table>\n",
       "</div>"
      ],
      "text/plain": [
       "       COHORTE PERÍODO ACADÉMICO CURSA           SEDE      CAMPUS  \\\n",
       "0  2016 - 2017             2016 - 2017      GUAYAQUIL  CENTENARIO   \n",
       "1  2016 - 2017             2016 - 2017      GUAYAQUIL  CENTENARIO   \n",
       "2  2016 - 2017             2016 - 2017  MATRIZ CUENCA   EL VECINO   \n",
       "3  2016 - 2017             2016 - 2017  MATRIZ CUENCA   EL VECINO   \n",
       "4  2016 - 2017             2016 - 2017  MATRIZ CUENCA   EL VECINO   \n",
       "\n",
       "             CARRERA                  ÁREA   MODALIDAD TIPO PROYECTOEDUCATIVO  \\\n",
       "0        COMPUTACIÓN  CIENCIA Y TECNOLOGÍA  PRESENCIAL       NUEVA O REDISEÑO   \n",
       "1       ELECTRICIDAD  CIENCIA Y TECNOLOGÍA  PRESENCIAL       NUEVA O REDISEÑO   \n",
       "2        COMPUTACIÓN  CIENCIA Y TECNOLOGÍA  PRESENCIAL       NUEVA O REDISEÑO   \n",
       "3   EDUCACIÓN BÁSICA             EDUCACION  PRESENCIAL       NUEVA O REDISEÑO   \n",
       "4  EDUCACIÓN INICIAL             EDUCACION  PRESENCIAL       NUEVA O REDISEÑO   \n",
       "\n",
       "   NRO ALUMNOS  \n",
       "0           69  \n",
       "1           50  \n",
       "2          124  \n",
       "3           38  \n",
       "4           28  "
      ]
     },
     "execution_count": 65,
     "metadata": {},
     "output_type": "execute_result"
    }
   ],
   "source": [
    "#Concatenamos todos los archivos\n",
    "df = pd.concat([dfx, df1, df2, df3, df4, df5, df6, df7, df8, df9, df0], ignore_index = True)\n",
    "df.head()"
   ]
  },
  {
   "cell_type": "markdown",
   "metadata": {},
   "source": [
    "#### 3. Realizamos una preprocesamiento de los datos (limpieza), puesto que el cohorte 2022 -2022 no contiene informacion valiosa"
   ]
  },
  {
   "cell_type": "code",
   "execution_count": 66,
   "metadata": {},
   "outputs": [
    {
     "data": {
      "text/plain": [
       "2947"
      ]
     },
     "execution_count": 66,
     "metadata": {},
     "output_type": "execute_result"
    }
   ],
   "source": [
    "#Limpieza de datos\n",
    "df.drop(df[df['PERÍODO ACADÉMICO CURSA'] == '2022 - 2022'].index, inplace = True)\n",
    "len(df.index)"
   ]
  },
  {
   "cell_type": "markdown",
   "metadata": {},
   "source": [
    "#### 4. Realizamos una limpieza de datos para verificar que no exita datos repetidos  "
   ]
  },
  {
   "cell_type": "code",
   "execution_count": 67,
   "metadata": {},
   "outputs": [],
   "source": [
    "cohortes = df.COHORTE.unique()\n",
    "sedes = df.SEDE.unique()\n",
    "campus = df.CAMPUS.unique()\n",
    "carreras = df.CARRERA.unique()"
   ]
  },
  {
   "cell_type": "markdown",
   "metadata": {},
   "source": [
    "#### 5. Guardamos en un archivo csv la data preprocesada, par posteriormente utilizar este dataset con la informacion de nuestro interes"
   ]
  },
  {
   "cell_type": "code",
   "execution_count": 7,
   "metadata": {},
   "outputs": [],
   "source": [
    "#Guardamos en un nuevo dataset todas los datos \n",
    "df.to_csv(\"DataUPS.csv\", sep=\";\",index = False)"
   ]
  },
  {
   "cell_type": "markdown",
   "metadata": {},
   "source": [
    "#### 6. Cargamos el nuevo dataset  "
   ]
  },
  {
   "cell_type": "code",
   "execution_count": 68,
   "metadata": {},
   "outputs": [
    {
     "data": {
      "text/html": [
       "<div>\n",
       "<style scoped>\n",
       "    .dataframe tbody tr th:only-of-type {\n",
       "        vertical-align: middle;\n",
       "    }\n",
       "\n",
       "    .dataframe tbody tr th {\n",
       "        vertical-align: top;\n",
       "    }\n",
       "\n",
       "    .dataframe thead th {\n",
       "        text-align: right;\n",
       "    }\n",
       "</style>\n",
       "<table border=\"1\" class=\"dataframe\">\n",
       "  <thead>\n",
       "    <tr style=\"text-align: right;\">\n",
       "      <th></th>\n",
       "      <th>COHORTE</th>\n",
       "      <th>PERÍODO ACADÉMICO CURSA</th>\n",
       "      <th>SEDE</th>\n",
       "      <th>CAMPUS</th>\n",
       "      <th>CARRERA</th>\n",
       "      <th>ÁREA</th>\n",
       "      <th>MODALIDAD</th>\n",
       "      <th>TIPO PROYECTOEDUCATIVO</th>\n",
       "      <th>NRO ALUMNOS</th>\n",
       "    </tr>\n",
       "  </thead>\n",
       "  <tbody>\n",
       "    <tr>\n",
       "      <th>0</th>\n",
       "      <td>2016 - 2017</td>\n",
       "      <td>2016 - 2017</td>\n",
       "      <td>GUAYAQUIL</td>\n",
       "      <td>CENTENARIO</td>\n",
       "      <td>COMPUTACIÓN</td>\n",
       "      <td>CIENCIA Y TECNOLOGÍA</td>\n",
       "      <td>PRESENCIAL</td>\n",
       "      <td>NUEVA O REDISEÑO</td>\n",
       "      <td>69</td>\n",
       "    </tr>\n",
       "    <tr>\n",
       "      <th>1</th>\n",
       "      <td>2016 - 2017</td>\n",
       "      <td>2016 - 2017</td>\n",
       "      <td>GUAYAQUIL</td>\n",
       "      <td>CENTENARIO</td>\n",
       "      <td>ELECTRICIDAD</td>\n",
       "      <td>CIENCIA Y TECNOLOGÍA</td>\n",
       "      <td>PRESENCIAL</td>\n",
       "      <td>NUEVA O REDISEÑO</td>\n",
       "      <td>50</td>\n",
       "    </tr>\n",
       "    <tr>\n",
       "      <th>2</th>\n",
       "      <td>2016 - 2017</td>\n",
       "      <td>2016 - 2017</td>\n",
       "      <td>MATRIZ CUENCA</td>\n",
       "      <td>EL VECINO</td>\n",
       "      <td>COMPUTACIÓN</td>\n",
       "      <td>CIENCIA Y TECNOLOGÍA</td>\n",
       "      <td>PRESENCIAL</td>\n",
       "      <td>NUEVA O REDISEÑO</td>\n",
       "      <td>124</td>\n",
       "    </tr>\n",
       "    <tr>\n",
       "      <th>3</th>\n",
       "      <td>2016 - 2017</td>\n",
       "      <td>2016 - 2017</td>\n",
       "      <td>MATRIZ CUENCA</td>\n",
       "      <td>EL VECINO</td>\n",
       "      <td>EDUCACIÓN BÁSICA</td>\n",
       "      <td>EDUCACION</td>\n",
       "      <td>PRESENCIAL</td>\n",
       "      <td>NUEVA O REDISEÑO</td>\n",
       "      <td>38</td>\n",
       "    </tr>\n",
       "    <tr>\n",
       "      <th>4</th>\n",
       "      <td>2016 - 2017</td>\n",
       "      <td>2016 - 2017</td>\n",
       "      <td>MATRIZ CUENCA</td>\n",
       "      <td>EL VECINO</td>\n",
       "      <td>EDUCACIÓN INICIAL</td>\n",
       "      <td>EDUCACION</td>\n",
       "      <td>PRESENCIAL</td>\n",
       "      <td>NUEVA O REDISEÑO</td>\n",
       "      <td>28</td>\n",
       "    </tr>\n",
       "    <tr>\n",
       "      <th>...</th>\n",
       "      <td>...</td>\n",
       "      <td>...</td>\n",
       "      <td>...</td>\n",
       "      <td>...</td>\n",
       "      <td>...</td>\n",
       "      <td>...</td>\n",
       "      <td>...</td>\n",
       "      <td>...</td>\n",
       "      <td>...</td>\n",
       "    </tr>\n",
       "    <tr>\n",
       "      <th>2942</th>\n",
       "      <td>2021 - 2022</td>\n",
       "      <td>2021 - 2022</td>\n",
       "      <td>QUITO</td>\n",
       "      <td>SUR</td>\n",
       "      <td>INGENIERÍA AUTOMOTRIZ</td>\n",
       "      <td>CIENCIA Y TECNOLOGÍA</td>\n",
       "      <td>PRESENCIAL</td>\n",
       "      <td>AJUSTE CURRICULAR / PROYECTOS DE CARRERA NUEVOS</td>\n",
       "      <td>122</td>\n",
       "    </tr>\n",
       "    <tr>\n",
       "      <th>2943</th>\n",
       "      <td>2021 - 2022</td>\n",
       "      <td>2021 - 2022</td>\n",
       "      <td>QUITO</td>\n",
       "      <td>SUR</td>\n",
       "      <td>INGENIERÍA CIVIL</td>\n",
       "      <td>CIENCIA Y TECNOLOGÍA</td>\n",
       "      <td>PRESENCIAL</td>\n",
       "      <td>AJUSTE CURRICULAR / PROYECTOS DE CARRERA NUEVOS</td>\n",
       "      <td>102</td>\n",
       "    </tr>\n",
       "    <tr>\n",
       "      <th>2944</th>\n",
       "      <td>2021 - 2022</td>\n",
       "      <td>2021 - 2022</td>\n",
       "      <td>QUITO</td>\n",
       "      <td>SUR</td>\n",
       "      <td>MECÁNICA</td>\n",
       "      <td>CIENCIA Y TECNOLOGÍA</td>\n",
       "      <td>PRESENCIAL</td>\n",
       "      <td>AJUSTE CURRICULAR / PROYECTOS DE CARRERA NUEVOS</td>\n",
       "      <td>27</td>\n",
       "    </tr>\n",
       "    <tr>\n",
       "      <th>2945</th>\n",
       "      <td>2021 - 2022</td>\n",
       "      <td>2021 - 2022</td>\n",
       "      <td>QUITO</td>\n",
       "      <td>SUR</td>\n",
       "      <td>MECATRÓNICA</td>\n",
       "      <td>CIENCIA Y TECNOLOGÍA</td>\n",
       "      <td>PRESENCIAL</td>\n",
       "      <td>AJUSTE CURRICULAR / PROYECTOS DE CARRERA NUEVOS</td>\n",
       "      <td>40</td>\n",
       "    </tr>\n",
       "    <tr>\n",
       "      <th>2946</th>\n",
       "      <td>2021 - 2022</td>\n",
       "      <td>2021 - 2022</td>\n",
       "      <td>QUITO</td>\n",
       "      <td>SUR</td>\n",
       "      <td>TELECOMUNICACIONES</td>\n",
       "      <td>CIENCIA Y TECNOLOGÍA</td>\n",
       "      <td>PRESENCIAL</td>\n",
       "      <td>AJUSTE CURRICULAR / PROYECTOS DE CARRERA NUEVOS</td>\n",
       "      <td>22</td>\n",
       "    </tr>\n",
       "  </tbody>\n",
       "</table>\n",
       "<p>2947 rows × 9 columns</p>\n",
       "</div>"
      ],
      "text/plain": [
       "          COHORTE PERÍODO ACADÉMICO CURSA           SEDE      CAMPUS  \\\n",
       "0     2016 - 2017             2016 - 2017      GUAYAQUIL  CENTENARIO   \n",
       "1     2016 - 2017             2016 - 2017      GUAYAQUIL  CENTENARIO   \n",
       "2     2016 - 2017             2016 - 2017  MATRIZ CUENCA   EL VECINO   \n",
       "3     2016 - 2017             2016 - 2017  MATRIZ CUENCA   EL VECINO   \n",
       "4     2016 - 2017             2016 - 2017  MATRIZ CUENCA   EL VECINO   \n",
       "...           ...                     ...            ...         ...   \n",
       "2942  2021 - 2022             2021 - 2022          QUITO         SUR   \n",
       "2943  2021 - 2022             2021 - 2022          QUITO         SUR   \n",
       "2944  2021 - 2022             2021 - 2022          QUITO         SUR   \n",
       "2945  2021 - 2022             2021 - 2022          QUITO         SUR   \n",
       "2946  2021 - 2022             2021 - 2022          QUITO         SUR   \n",
       "\n",
       "                    CARRERA                  ÁREA   MODALIDAD  \\\n",
       "0               COMPUTACIÓN  CIENCIA Y TECNOLOGÍA  PRESENCIAL   \n",
       "1              ELECTRICIDAD  CIENCIA Y TECNOLOGÍA  PRESENCIAL   \n",
       "2               COMPUTACIÓN  CIENCIA Y TECNOLOGÍA  PRESENCIAL   \n",
       "3          EDUCACIÓN BÁSICA             EDUCACION  PRESENCIAL   \n",
       "4         EDUCACIÓN INICIAL             EDUCACION  PRESENCIAL   \n",
       "...                     ...                   ...         ...   \n",
       "2942  INGENIERÍA AUTOMOTRIZ  CIENCIA Y TECNOLOGÍA  PRESENCIAL   \n",
       "2943       INGENIERÍA CIVIL  CIENCIA Y TECNOLOGÍA  PRESENCIAL   \n",
       "2944               MECÁNICA  CIENCIA Y TECNOLOGÍA  PRESENCIAL   \n",
       "2945            MECATRÓNICA  CIENCIA Y TECNOLOGÍA  PRESENCIAL   \n",
       "2946     TELECOMUNICACIONES  CIENCIA Y TECNOLOGÍA  PRESENCIAL   \n",
       "\n",
       "                               TIPO PROYECTOEDUCATIVO  NRO ALUMNOS  \n",
       "0                                    NUEVA O REDISEÑO           69  \n",
       "1                                    NUEVA O REDISEÑO           50  \n",
       "2                                    NUEVA O REDISEÑO          124  \n",
       "3                                    NUEVA O REDISEÑO           38  \n",
       "4                                    NUEVA O REDISEÑO           28  \n",
       "...                                               ...          ...  \n",
       "2942  AJUSTE CURRICULAR / PROYECTOS DE CARRERA NUEVOS          122  \n",
       "2943  AJUSTE CURRICULAR / PROYECTOS DE CARRERA NUEVOS          102  \n",
       "2944  AJUSTE CURRICULAR / PROYECTOS DE CARRERA NUEVOS           27  \n",
       "2945  AJUSTE CURRICULAR / PROYECTOS DE CARRERA NUEVOS           40  \n",
       "2946  AJUSTE CURRICULAR / PROYECTOS DE CARRERA NUEVOS           22  \n",
       "\n",
       "[2947 rows x 9 columns]"
      ]
     },
     "execution_count": 68,
     "metadata": {},
     "output_type": "execute_result"
    }
   ],
   "source": [
    "#Cargamos el dataset previamente guardado y preprocesado\n",
    "df = pd.read_csv('DataUPS.csv', sep=\";\") \n",
    "df"
   ]
  },
  {
   "cell_type": "markdown",
   "metadata": {},
   "source": [
    "#### Reporte 1: Area - Ciencias Administrativas y Economicas \n",
    "\n",
    "Para el área del conocimiento asignada, mediante una lista desplegable seleccionar una sede y en otra lista desplegable seleccionar la carrera. Luego de ello se debe visualizar el comportamiento de las cohortes."
   ]
  },
  {
   "cell_type": "markdown",
   "metadata": {},
   "source": [
    "##### 1.1 Separamos las carreras por sede para realizar el combobox"
   ]
  },
  {
   "cell_type": "code",
   "execution_count": 69,
   "metadata": {},
   "outputs": [],
   "source": [
    "#Separamos las carreras por sede para poder hacer el combobox\n",
    "carrerasCuenca = df.loc[(df['SEDE'] == 'MATRIZ CUENCA')].CARRERA.unique()\n",
    "carrerasGye = df.loc[(df['SEDE'] == 'GUAYAQUIL')].CARRERA.unique()\n",
    "carrerasUio = df.loc[(df['SEDE'] == 'QUITO')].CARRERA.unique()"
   ]
  },
  {
   "cell_type": "markdown",
   "metadata": {},
   "source": [
    "##### 1.2 Agregamos los valores a la lista desplegable"
   ]
  },
  {
   "cell_type": "code",
   "execution_count": 70,
   "metadata": {},
   "outputs": [],
   "source": [
    "# Agregamos los valores a la lista desplegable\n",
    "geo = {'MATRIZ CUENCA':carrerasCuenca,'GUAYAQUIL':carrerasGye, 'QUITO':carrerasUio}\n",
    "sedeW = Dropdown(options = geo.keys())\n",
    "carreraW = Dropdown()"
   ]
  },
  {
   "cell_type": "markdown",
   "metadata": {},
   "source": [
    "#### 1.3 Creamos un listener para interactuar con el combobox"
   ]
  },
  {
   "cell_type": "code",
   "execution_count": 71,
   "metadata": {},
   "outputs": [],
   "source": [
    "#Creamos un listener del combobox \n",
    "def update_cityW_options(*args): # *args represent zero (case here) or more arguments.\n",
    "    carreraW.options = geo[sedeW.value]\n",
    "carreraW.observe(update_cityW_options) # Here is the trick, i.e. update cityW.options based on countryW.value.\n"
   ]
  },
  {
   "cell_type": "markdown",
   "metadata": {},
   "source": [
    "#### 1.4. Grafica que permite interactuar con la lista desplegable "
   ]
  },
  {
   "cell_type": "code",
   "execution_count": 72,
   "metadata": {},
   "outputs": [
    {
     "data": {
      "application/vnd.jupyter.widget-view+json": {
       "model_id": "15b8990813164262924e59f85c94b2a3",
       "version_major": 2,
       "version_minor": 0
      },
      "text/plain": [
       "interactive(children=(Dropdown(description='sede', options=('MATRIZ CUENCA', 'GUAYAQUIL', 'QUITO'), value='MAT…"
      ]
     },
     "metadata": {},
     "output_type": "display_data"
    }
   ],
   "source": [
    "@interact(sede = sedeW, carrera = carreraW)\n",
    "def print_city(sede, carrera):\n",
    "    print('SEDE = '+sede+'   CARRERA = '+ carrera)\n",
    "    #Creamos un lista para guardar agregar el numero de alumnos por cohorte \n",
    "    cohovalues = []\n",
    "    #recorremos la lista de los cohortes\n",
    "    for coho in cohortes:\n",
    "        #\n",
    "        dx = df.loc[(df['COHORTE'] == coho) & (df['SEDE'] == sede) & (df['CARRERA'] == carrera)]\n",
    "        carrer= df['CARRERA']\n",
    "        cohovalues.append(dx['NRO ALUMNOS'].sum()) \n",
    "\n",
    "    plt.figure()\n",
    "    plt.xticks(rotation = 90)\n",
    "    plt.title(\"Analisis Por Carrera\")\n",
    "    barras = plt.bar(cohortes, cohovalues, color=(0.5, 0.5, 0.5, 0.5),edgecolor='blue')"
   ]
  },
  {
   "cell_type": "markdown",
   "metadata": {},
   "source": [
    "#### Reporte2  por Carrera - Telecomunicaciones \n",
    "Para la carrera asignada, mediante un check list permitir filtrar las cohortes que se desea visualizar (Considerar el uso de leyendas, puesto que en algunos casos la carrera estará presente en tres, dos o una sede)"
   ]
  },
  {
   "cell_type": "markdown",
   "metadata": {},
   "source": [
    "#### 2.1. Creamos listas para guardar los valores dependiendo el analisis, en este se realiza un analisis de forma global y por sede de la carrera de telecomunicaciones"
   ]
  },
  {
   "cell_type": "code",
   "execution_count": 73,
   "metadata": {},
   "outputs": [],
   "source": [
    "#Realizamos un analisis global de la carrera Telecomunicaciones\n",
    "#Creamos un lista para guardar agregar el numero de alumnos por cohorte \n",
    "cohovalues = []\n",
    "#recorremos la lista de los cohortes\n",
    "for coho in cohortes:\n",
    "    #\n",
    "    dx = df.loc[(df['COHORTE'] == coho) & (df['CARRERA'] == 'TELECOMUNICACIONES')]\n",
    "    carrer= df['CARRERA']\n",
    "    cohovalues.append(dx['NRO ALUMNOS'].sum()) \n",
    "\n",
    "#Analisis por Sedes\n",
    "#SEDE-QUITO\n",
    "cohovaluesQ = []\n",
    "for coho in cohortes:\n",
    "    dx = df.loc[(df['COHORTE'] == coho) & (df['CARRERA'] == 'TELECOMUNICACIONES') & (df['SEDE'] == 'QUITO')]\n",
    "    carrer= df['CARRERA']\n",
    "    cohovaluesQ.append(dx['NRO ALUMNOS'].sum()) \n",
    "\n",
    "#SEDE-GUAYAQUIL\n",
    "cohovaluesG = []\n",
    "for coho in cohortes:\n",
    "    dx = df.loc[(df['COHORTE'] == coho) & (df['CARRERA'] == 'TELECOMUNICACIONES') & (df['SEDE'] == 'GUAYAQUIL')]\n",
    "    carrer= df['CARRERA']\n",
    "    cohovaluesG.append(dx['NRO ALUMNOS'].sum()) \n",
    "\n",
    "#SEDE-CUENCA\n",
    "cohovaluesC = []\n",
    "for coho in cohortes:\n",
    "    dx = df.loc[(df['COHORTE'] == coho) & (df['CARRERA'] == 'TELECOMUNICACIONES') & (df['SEDE'] == 'MATRIZ CUENCA')]\n",
    "    carrer= df['CARRERA']\n",
    "    cohovaluesC.append(dx['NRO ALUMNOS'].sum()) "
   ]
  },
  {
   "cell_type": "markdown",
   "metadata": {},
   "source": [
    "#### 2.2. Grafica que permite interactuar con los botones para presentar las graficas dependiendo el analisis de interes"
   ]
  },
  {
   "cell_type": "code",
   "execution_count": 74,
   "metadata": {},
   "outputs": [
    {
     "data": {
      "application/vnd.plotly.v1+json": {
       "config": {
        "plotlyServerURL": "https://plot.ly"
       },
       "data": [
        {
         "name": "SEDE QUITO",
         "type": "bar",
         "x": [
          "2016 - 2017",
          "2017 - 2017",
          "2017 - 2018",
          "2018 - 2018",
          "2018 - 2019",
          "2019 - 2019",
          "2019 - 2020",
          "2020 - 2020",
          "2020 - 2021",
          "2021 - 2021",
          "2021 - 2022"
         ],
         "y": [
          0,
          317,
          263,
          104,
          182,
          81,
          121,
          45,
          53,
          31,
          22
         ]
        },
        {
         "name": "SEDE GUAYAQUIL",
         "type": "bar",
         "x": [
          "2016 - 2017",
          "2017 - 2017",
          "2017 - 2018",
          "2018 - 2018",
          "2018 - 2019",
          "2019 - 2019",
          "2019 - 2020",
          "2020 - 2020",
          "2020 - 2021",
          "2021 - 2021",
          "2021 - 2022"
         ],
         "y": [
          0,
          433,
          214,
          398,
          106,
          267,
          86,
          108,
          71,
          80,
          12
         ]
        },
        {
         "name": "SEDE CUENCA",
         "type": "bar",
         "x": [
          "2016 - 2017",
          "2017 - 2017",
          "2017 - 2018",
          "2018 - 2018",
          "2018 - 2019",
          "2019 - 2019",
          "2019 - 2020",
          "2020 - 2020",
          "2020 - 2021",
          "2021 - 2021",
          "2021 - 2022"
         ],
         "y": [
          144,
          93,
          136,
          60,
          85,
          0,
          85,
          4,
          53,
          11,
          12
         ]
        }
       ],
       "layout": {
        "autosize": false,
        "height": 700,
        "margin": {
         "b": 0,
         "l": 0,
         "r": 0,
         "t": 0
        },
        "template": {
         "data": {
          "bar": [
           {
            "error_x": {
             "color": "#2a3f5f"
            },
            "error_y": {
             "color": "#2a3f5f"
            },
            "marker": {
             "line": {
              "color": "#E5ECF6",
              "width": 0.5
             },
             "pattern": {
              "fillmode": "overlay",
              "size": 10,
              "solidity": 0.2
             }
            },
            "type": "bar"
           }
          ],
          "barpolar": [
           {
            "marker": {
             "line": {
              "color": "#E5ECF6",
              "width": 0.5
             },
             "pattern": {
              "fillmode": "overlay",
              "size": 10,
              "solidity": 0.2
             }
            },
            "type": "barpolar"
           }
          ],
          "carpet": [
           {
            "aaxis": {
             "endlinecolor": "#2a3f5f",
             "gridcolor": "white",
             "linecolor": "white",
             "minorgridcolor": "white",
             "startlinecolor": "#2a3f5f"
            },
            "baxis": {
             "endlinecolor": "#2a3f5f",
             "gridcolor": "white",
             "linecolor": "white",
             "minorgridcolor": "white",
             "startlinecolor": "#2a3f5f"
            },
            "type": "carpet"
           }
          ],
          "choropleth": [
           {
            "colorbar": {
             "outlinewidth": 0,
             "ticks": ""
            },
            "type": "choropleth"
           }
          ],
          "contour": [
           {
            "colorbar": {
             "outlinewidth": 0,
             "ticks": ""
            },
            "colorscale": [
             [
              0,
              "#0d0887"
             ],
             [
              0.1111111111111111,
              "#46039f"
             ],
             [
              0.2222222222222222,
              "#7201a8"
             ],
             [
              0.3333333333333333,
              "#9c179e"
             ],
             [
              0.4444444444444444,
              "#bd3786"
             ],
             [
              0.5555555555555556,
              "#d8576b"
             ],
             [
              0.6666666666666666,
              "#ed7953"
             ],
             [
              0.7777777777777778,
              "#fb9f3a"
             ],
             [
              0.8888888888888888,
              "#fdca26"
             ],
             [
              1,
              "#f0f921"
             ]
            ],
            "type": "contour"
           }
          ],
          "contourcarpet": [
           {
            "colorbar": {
             "outlinewidth": 0,
             "ticks": ""
            },
            "type": "contourcarpet"
           }
          ],
          "heatmap": [
           {
            "colorbar": {
             "outlinewidth": 0,
             "ticks": ""
            },
            "colorscale": [
             [
              0,
              "#0d0887"
             ],
             [
              0.1111111111111111,
              "#46039f"
             ],
             [
              0.2222222222222222,
              "#7201a8"
             ],
             [
              0.3333333333333333,
              "#9c179e"
             ],
             [
              0.4444444444444444,
              "#bd3786"
             ],
             [
              0.5555555555555556,
              "#d8576b"
             ],
             [
              0.6666666666666666,
              "#ed7953"
             ],
             [
              0.7777777777777778,
              "#fb9f3a"
             ],
             [
              0.8888888888888888,
              "#fdca26"
             ],
             [
              1,
              "#f0f921"
             ]
            ],
            "type": "heatmap"
           }
          ],
          "heatmapgl": [
           {
            "colorbar": {
             "outlinewidth": 0,
             "ticks": ""
            },
            "colorscale": [
             [
              0,
              "#0d0887"
             ],
             [
              0.1111111111111111,
              "#46039f"
             ],
             [
              0.2222222222222222,
              "#7201a8"
             ],
             [
              0.3333333333333333,
              "#9c179e"
             ],
             [
              0.4444444444444444,
              "#bd3786"
             ],
             [
              0.5555555555555556,
              "#d8576b"
             ],
             [
              0.6666666666666666,
              "#ed7953"
             ],
             [
              0.7777777777777778,
              "#fb9f3a"
             ],
             [
              0.8888888888888888,
              "#fdca26"
             ],
             [
              1,
              "#f0f921"
             ]
            ],
            "type": "heatmapgl"
           }
          ],
          "histogram": [
           {
            "marker": {
             "pattern": {
              "fillmode": "overlay",
              "size": 10,
              "solidity": 0.2
             }
            },
            "type": "histogram"
           }
          ],
          "histogram2d": [
           {
            "colorbar": {
             "outlinewidth": 0,
             "ticks": ""
            },
            "colorscale": [
             [
              0,
              "#0d0887"
             ],
             [
              0.1111111111111111,
              "#46039f"
             ],
             [
              0.2222222222222222,
              "#7201a8"
             ],
             [
              0.3333333333333333,
              "#9c179e"
             ],
             [
              0.4444444444444444,
              "#bd3786"
             ],
             [
              0.5555555555555556,
              "#d8576b"
             ],
             [
              0.6666666666666666,
              "#ed7953"
             ],
             [
              0.7777777777777778,
              "#fb9f3a"
             ],
             [
              0.8888888888888888,
              "#fdca26"
             ],
             [
              1,
              "#f0f921"
             ]
            ],
            "type": "histogram2d"
           }
          ],
          "histogram2dcontour": [
           {
            "colorbar": {
             "outlinewidth": 0,
             "ticks": ""
            },
            "colorscale": [
             [
              0,
              "#0d0887"
             ],
             [
              0.1111111111111111,
              "#46039f"
             ],
             [
              0.2222222222222222,
              "#7201a8"
             ],
             [
              0.3333333333333333,
              "#9c179e"
             ],
             [
              0.4444444444444444,
              "#bd3786"
             ],
             [
              0.5555555555555556,
              "#d8576b"
             ],
             [
              0.6666666666666666,
              "#ed7953"
             ],
             [
              0.7777777777777778,
              "#fb9f3a"
             ],
             [
              0.8888888888888888,
              "#fdca26"
             ],
             [
              1,
              "#f0f921"
             ]
            ],
            "type": "histogram2dcontour"
           }
          ],
          "mesh3d": [
           {
            "colorbar": {
             "outlinewidth": 0,
             "ticks": ""
            },
            "type": "mesh3d"
           }
          ],
          "parcoords": [
           {
            "line": {
             "colorbar": {
              "outlinewidth": 0,
              "ticks": ""
             }
            },
            "type": "parcoords"
           }
          ],
          "pie": [
           {
            "automargin": true,
            "type": "pie"
           }
          ],
          "scatter": [
           {
            "fillpattern": {
             "fillmode": "overlay",
             "size": 10,
             "solidity": 0.2
            },
            "type": "scatter"
           }
          ],
          "scatter3d": [
           {
            "line": {
             "colorbar": {
              "outlinewidth": 0,
              "ticks": ""
             }
            },
            "marker": {
             "colorbar": {
              "outlinewidth": 0,
              "ticks": ""
             }
            },
            "type": "scatter3d"
           }
          ],
          "scattercarpet": [
           {
            "marker": {
             "colorbar": {
              "outlinewidth": 0,
              "ticks": ""
             }
            },
            "type": "scattercarpet"
           }
          ],
          "scattergeo": [
           {
            "marker": {
             "colorbar": {
              "outlinewidth": 0,
              "ticks": ""
             }
            },
            "type": "scattergeo"
           }
          ],
          "scattergl": [
           {
            "marker": {
             "colorbar": {
              "outlinewidth": 0,
              "ticks": ""
             }
            },
            "type": "scattergl"
           }
          ],
          "scattermapbox": [
           {
            "marker": {
             "colorbar": {
              "outlinewidth": 0,
              "ticks": ""
             }
            },
            "type": "scattermapbox"
           }
          ],
          "scatterpolar": [
           {
            "marker": {
             "colorbar": {
              "outlinewidth": 0,
              "ticks": ""
             }
            },
            "type": "scatterpolar"
           }
          ],
          "scatterpolargl": [
           {
            "marker": {
             "colorbar": {
              "outlinewidth": 0,
              "ticks": ""
             }
            },
            "type": "scatterpolargl"
           }
          ],
          "scatterternary": [
           {
            "marker": {
             "colorbar": {
              "outlinewidth": 0,
              "ticks": ""
             }
            },
            "type": "scatterternary"
           }
          ],
          "surface": [
           {
            "colorbar": {
             "outlinewidth": 0,
             "ticks": ""
            },
            "colorscale": [
             [
              0,
              "#0d0887"
             ],
             [
              0.1111111111111111,
              "#46039f"
             ],
             [
              0.2222222222222222,
              "#7201a8"
             ],
             [
              0.3333333333333333,
              "#9c179e"
             ],
             [
              0.4444444444444444,
              "#bd3786"
             ],
             [
              0.5555555555555556,
              "#d8576b"
             ],
             [
              0.6666666666666666,
              "#ed7953"
             ],
             [
              0.7777777777777778,
              "#fb9f3a"
             ],
             [
              0.8888888888888888,
              "#fdca26"
             ],
             [
              1,
              "#f0f921"
             ]
            ],
            "type": "surface"
           }
          ],
          "table": [
           {
            "cells": {
             "fill": {
              "color": "#EBF0F8"
             },
             "line": {
              "color": "white"
             }
            },
            "header": {
             "fill": {
              "color": "#C8D4E3"
             },
             "line": {
              "color": "white"
             }
            },
            "type": "table"
           }
          ]
         },
         "layout": {
          "annotationdefaults": {
           "arrowcolor": "#2a3f5f",
           "arrowhead": 0,
           "arrowwidth": 1
          },
          "autotypenumbers": "strict",
          "coloraxis": {
           "colorbar": {
            "outlinewidth": 0,
            "ticks": ""
           }
          },
          "colorscale": {
           "diverging": [
            [
             0,
             "#8e0152"
            ],
            [
             0.1,
             "#c51b7d"
            ],
            [
             0.2,
             "#de77ae"
            ],
            [
             0.3,
             "#f1b6da"
            ],
            [
             0.4,
             "#fde0ef"
            ],
            [
             0.5,
             "#f7f7f7"
            ],
            [
             0.6,
             "#e6f5d0"
            ],
            [
             0.7,
             "#b8e186"
            ],
            [
             0.8,
             "#7fbc41"
            ],
            [
             0.9,
             "#4d9221"
            ],
            [
             1,
             "#276419"
            ]
           ],
           "sequential": [
            [
             0,
             "#0d0887"
            ],
            [
             0.1111111111111111,
             "#46039f"
            ],
            [
             0.2222222222222222,
             "#7201a8"
            ],
            [
             0.3333333333333333,
             "#9c179e"
            ],
            [
             0.4444444444444444,
             "#bd3786"
            ],
            [
             0.5555555555555556,
             "#d8576b"
            ],
            [
             0.6666666666666666,
             "#ed7953"
            ],
            [
             0.7777777777777778,
             "#fb9f3a"
            ],
            [
             0.8888888888888888,
             "#fdca26"
            ],
            [
             1,
             "#f0f921"
            ]
           ],
           "sequentialminus": [
            [
             0,
             "#0d0887"
            ],
            [
             0.1111111111111111,
             "#46039f"
            ],
            [
             0.2222222222222222,
             "#7201a8"
            ],
            [
             0.3333333333333333,
             "#9c179e"
            ],
            [
             0.4444444444444444,
             "#bd3786"
            ],
            [
             0.5555555555555556,
             "#d8576b"
            ],
            [
             0.6666666666666666,
             "#ed7953"
            ],
            [
             0.7777777777777778,
             "#fb9f3a"
            ],
            [
             0.8888888888888888,
             "#fdca26"
            ],
            [
             1,
             "#f0f921"
            ]
           ]
          },
          "colorway": [
           "#636efa",
           "#EF553B",
           "#00cc96",
           "#ab63fa",
           "#FFA15A",
           "#19d3f3",
           "#FF6692",
           "#B6E880",
           "#FF97FF",
           "#FECB52"
          ],
          "font": {
           "color": "#2a3f5f"
          },
          "geo": {
           "bgcolor": "white",
           "lakecolor": "white",
           "landcolor": "#E5ECF6",
           "showlakes": true,
           "showland": true,
           "subunitcolor": "white"
          },
          "hoverlabel": {
           "align": "left"
          },
          "hovermode": "closest",
          "mapbox": {
           "style": "light"
          },
          "paper_bgcolor": "white",
          "plot_bgcolor": "#E5ECF6",
          "polar": {
           "angularaxis": {
            "gridcolor": "white",
            "linecolor": "white",
            "ticks": ""
           },
           "bgcolor": "#E5ECF6",
           "radialaxis": {
            "gridcolor": "white",
            "linecolor": "white",
            "ticks": ""
           }
          },
          "scene": {
           "xaxis": {
            "backgroundcolor": "#E5ECF6",
            "gridcolor": "white",
            "gridwidth": 2,
            "linecolor": "white",
            "showbackground": true,
            "ticks": "",
            "zerolinecolor": "white"
           },
           "yaxis": {
            "backgroundcolor": "#E5ECF6",
            "gridcolor": "white",
            "gridwidth": 2,
            "linecolor": "white",
            "showbackground": true,
            "ticks": "",
            "zerolinecolor": "white"
           },
           "zaxis": {
            "backgroundcolor": "#E5ECF6",
            "gridcolor": "white",
            "gridwidth": 2,
            "linecolor": "white",
            "showbackground": true,
            "ticks": "",
            "zerolinecolor": "white"
           }
          },
          "shapedefaults": {
           "line": {
            "color": "#2a3f5f"
           }
          },
          "ternary": {
           "aaxis": {
            "gridcolor": "white",
            "linecolor": "white",
            "ticks": ""
           },
           "baxis": {
            "gridcolor": "white",
            "linecolor": "white",
            "ticks": ""
           },
           "bgcolor": "#E5ECF6",
           "caxis": {
            "gridcolor": "white",
            "linecolor": "white",
            "ticks": ""
           }
          },
          "title": {
           "x": 0.05
          },
          "xaxis": {
           "automargin": true,
           "gridcolor": "white",
           "linecolor": "white",
           "ticks": "",
           "title": {
            "standoff": 15
           },
           "zerolinecolor": "white",
           "zerolinewidth": 2
          },
          "yaxis": {
           "automargin": true,
           "gridcolor": "white",
           "linecolor": "white",
           "ticks": "",
           "title": {
            "standoff": 15
           },
           "zerolinecolor": "white",
           "zerolinewidth": 2
          }
         }
        },
        "title": {
         "text": "Cohortes Carrera Telecomunicaciones",
         "x": 0.5,
         "y": 1
        },
        "updatemenus": [
         {
          "active": 0,
          "buttons": [
           {
            "args": [
             {
              "visible": [
               true,
               true,
               true
              ]
             },
             {
              "text": "blue",
              "title": "Analisis Global"
             }
            ],
            "label": "ANALISIS GLOBAL",
            "method": "update"
           },
           {
            "args": [
             {
              "visible": [
               true,
               false,
               false
              ]
             },
             {
              "title": "Analisis Sede Quito"
             }
            ],
            "label": "SEDE QUITO",
            "method": "update"
           },
           {
            "args": [
             {
              "visible": [
               false,
               true,
               false
              ]
             },
             {
              "title": "Analisis Sede Guayaquil"
             }
            ],
            "label": "SEDE GUAYAQUIL",
            "method": "update"
           },
           {
            "args": [
             {
              "visible": [
               false,
               false,
               true
              ]
             },
             {
              "title": "Analisis Sede Cuenca"
             }
            ],
            "label": "SEDE CUENCA",
            "method": "update"
           }
          ],
          "type": "buttons"
         }
        ],
        "width": 1000,
        "xaxis": {
         "tickangle": 50
        }
       }
      }
     },
     "metadata": {},
     "output_type": "display_data"
    }
   ],
   "source": [
    "x = cohortes\n",
    "\n",
    "plot = px.Figure(\n",
    "    data=[go.Bar(\n",
    "    name='SEDE QUITO',\n",
    "    x=x,\n",
    "    y=cohovaluesQ,\n",
    "),\n",
    "    go.Bar(\n",
    "    name='SEDE GUAYAQUIL',\n",
    "    x=x,\n",
    "    y=cohovaluesG,\n",
    "),\n",
    "    go.Bar(\n",
    "    name='SEDE CUENCA',\n",
    "    x=x,\n",
    "    y=cohovaluesC,\n",
    ")\n",
    "])\n",
    "\n",
    "plot.update_layout(\n",
    "    updatemenus=[\n",
    "        dict(\n",
    "            type=\"buttons\",\n",
    "            active=0,\n",
    "            buttons=list([\n",
    "                dict(label=\"ANALISIS GLOBAL\",\n",
    "                     method=\"update\",\n",
    "                     args=[{\"visible\": [True, True,True]},\n",
    "                           {\"title\": \"Analisis Global\",\"text\":\"blue\"}]),\n",
    "                dict(label=\"SEDE QUITO\",\n",
    "                     method=\"update\",\n",
    "                     args=[{\"visible\": [True, False,False]},\n",
    "                           {\"title\": \"Analisis Sede Quito\"\n",
    "                            }]),\n",
    "                dict(label=\"SEDE GUAYAQUIL\",\n",
    "                     method=\"update\",\n",
    "                     args=[{\"visible\": [False, True,False]},\n",
    "                           {\"title\": \"Analisis Sede Guayaquil\",\n",
    "                            }]),\n",
    "                dict(label=\"SEDE CUENCA\",\n",
    "                     method=\"update\",\n",
    "                     args=[{\"visible\": [False, False,True]},\n",
    "                           {\"title\": \"Analisis Sede Cuenca\",\n",
    "                            }]),\n",
    "            ]),\n",
    "        )\n",
    "    ]\n",
    ",width=1000,\n",
    "    height=700,\n",
    "    autosize=False,\n",
    "    margin=dict(t=0, b=0, l=0, r=0),\n",
    "    #template=\"seaborn\",\n",
    "    xaxis={'tickangle': 50}\n",
    ")\n",
    "plot.update_layout(title=\"Cohortes Carrera Telecomunicaciones\", title_x=0.5, title_y=1)\n",
    "plot.show()"
   ]
  }
 ],
 "metadata": {
  "interpreter": {
   "hash": "8344beb2e3695cc865366b87c9e795fe295d5e1a75013da0c7029a373688a8d6"
  },
  "kernelspec": {
   "display_name": "Python 3.9.12 64-bit (windows store)",
   "language": "python",
   "name": "python3"
  },
  "language_info": {
   "codemirror_mode": {
    "name": "ipython",
    "version": 3
   },
   "file_extension": ".py",
   "mimetype": "text/x-python",
   "name": "python",
   "nbconvert_exporter": "python",
   "pygments_lexer": "ipython3",
   "version": "3.9.13"
  },
  "orig_nbformat": 4
 },
 "nbformat": 4,
 "nbformat_minor": 2
}
