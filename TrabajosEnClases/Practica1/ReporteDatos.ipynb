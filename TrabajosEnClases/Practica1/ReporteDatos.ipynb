{
 "cells": [
  {
   "cell_type": "code",
   "execution_count": 29,
   "metadata": {},
   "outputs": [],
   "source": [
    "import matplotlib.pyplot as plt\n",
    "import numpy as np\n",
    "import pandas as pd\n",
    "import io\n",
    "import plotly.graph_objects as go"
   ]
  },
  {
   "cell_type": "code",
   "execution_count": 30,
   "metadata": {},
   "outputs": [],
   "source": [
    "#Leemos todos los csv\n",
    "dfx = pd.read_excel('./DataCleaning/DataCleaning/Numero_grupos_ofertados_cohorte_2016_2017_49_marzo2022.xlsx') \n",
    "df1 = pd.read_excel('./DataCleaning/DataCleaning/Numero_grupos_ofertados_cohorte_2017_2017_50_marzo2022.xlsx') \n",
    "df2 = pd.read_excel('./DataCleaning/DataCleaning/Numero_grupos_ofertados_cohorte_2017_2018_51_marzo2022.xlsx')\n",
    "df3 = pd.read_excel('./DataCleaning/DataCleaning/Numero_grupos_ofertados_cohorte_2018_2018_52_marzo2022.xlsx')\n",
    "df4 = pd.read_excel('./DataCleaning/DataCleaning/Numero_grupos_ofertados_cohorte_2018_2019_53_marzo2022.xlsx')\n",
    "df5 = pd.read_excel('./DataCleaning/DataCleaning/Numero_grupos_ofertados_cohorte_2019_2019_54_marzo2022.xlsx')\n",
    "df6 = pd.read_excel('./DataCleaning/DataCleaning/Numero_grupos_ofertados_cohorte_2020_2019_55_marzo2022.xlsx')\n",
    "df7 = pd.read_excel('./DataCleaning/DataCleaning/Numero_grupos_ofertados_cohorte_2020_2020_56_marzo2022.xlsx')\n",
    "df8 = pd.read_excel('./DataCleaning/DataCleaning/Numero_grupos_ofertados_cohorte_2020_2021_57_marzo2022.xlsx')\n",
    "df9 = pd.read_excel('./DataCleaning/DataCleaning/Numero_grupos_ofertados_cohorte_2021_2021_58_marzo2022.xlsx')\n",
    "df0 = pd.read_excel('./DataCleaning/DataCleaning/Numero_grupos_ofertados_cohorte_2021_2022_59_marzo2022.xlsx')"
   ]
  },
  {
   "cell_type": "code",
   "execution_count": 31,
   "metadata": {},
   "outputs": [
    {
     "data": {
      "text/html": [
       "<div>\n",
       "<style scoped>\n",
       "    .dataframe tbody tr th:only-of-type {\n",
       "        vertical-align: middle;\n",
       "    }\n",
       "\n",
       "    .dataframe tbody tr th {\n",
       "        vertical-align: top;\n",
       "    }\n",
       "\n",
       "    .dataframe thead th {\n",
       "        text-align: right;\n",
       "    }\n",
       "</style>\n",
       "<table border=\"1\" class=\"dataframe\">\n",
       "  <thead>\n",
       "    <tr style=\"text-align: right;\">\n",
       "      <th></th>\n",
       "      <th>COHORTE</th>\n",
       "      <th>PERÍODO ACADÉMICO CURSA</th>\n",
       "      <th>SEDE</th>\n",
       "      <th>CAMPUS</th>\n",
       "      <th>CARRERA</th>\n",
       "      <th>ÁREA</th>\n",
       "      <th>MODALIDAD</th>\n",
       "      <th>TIPO PROYECTOEDUCATIVO</th>\n",
       "      <th>NRO ALUMNOS</th>\n",
       "    </tr>\n",
       "  </thead>\n",
       "  <tbody>\n",
       "    <tr>\n",
       "      <th>0</th>\n",
       "      <td>2016 - 2017</td>\n",
       "      <td>2016 - 2017</td>\n",
       "      <td>GUAYAQUIL</td>\n",
       "      <td>CENTENARIO</td>\n",
       "      <td>COMPUTACIÓN</td>\n",
       "      <td>CIENCIA Y TECNOLOGÍA</td>\n",
       "      <td>PRESENCIAL</td>\n",
       "      <td>NUEVA O REDISEÑO</td>\n",
       "      <td>69</td>\n",
       "    </tr>\n",
       "    <tr>\n",
       "      <th>1</th>\n",
       "      <td>2016 - 2017</td>\n",
       "      <td>2016 - 2017</td>\n",
       "      <td>GUAYAQUIL</td>\n",
       "      <td>CENTENARIO</td>\n",
       "      <td>ELECTRICIDAD</td>\n",
       "      <td>CIENCIA Y TECNOLOGÍA</td>\n",
       "      <td>PRESENCIAL</td>\n",
       "      <td>NUEVA O REDISEÑO</td>\n",
       "      <td>50</td>\n",
       "    </tr>\n",
       "    <tr>\n",
       "      <th>2</th>\n",
       "      <td>2016 - 2017</td>\n",
       "      <td>2016 - 2017</td>\n",
       "      <td>MATRIZ CUENCA</td>\n",
       "      <td>EL VECINO</td>\n",
       "      <td>COMPUTACIÓN</td>\n",
       "      <td>CIENCIA Y TECNOLOGÍA</td>\n",
       "      <td>PRESENCIAL</td>\n",
       "      <td>NUEVA O REDISEÑO</td>\n",
       "      <td>124</td>\n",
       "    </tr>\n",
       "    <tr>\n",
       "      <th>3</th>\n",
       "      <td>2016 - 2017</td>\n",
       "      <td>2016 - 2017</td>\n",
       "      <td>MATRIZ CUENCA</td>\n",
       "      <td>EL VECINO</td>\n",
       "      <td>EDUCACIÓN BÁSICA</td>\n",
       "      <td>EDUCACION</td>\n",
       "      <td>PRESENCIAL</td>\n",
       "      <td>NUEVA O REDISEÑO</td>\n",
       "      <td>38</td>\n",
       "    </tr>\n",
       "    <tr>\n",
       "      <th>4</th>\n",
       "      <td>2016 - 2017</td>\n",
       "      <td>2016 - 2017</td>\n",
       "      <td>MATRIZ CUENCA</td>\n",
       "      <td>EL VECINO</td>\n",
       "      <td>EDUCACIÓN INICIAL</td>\n",
       "      <td>EDUCACION</td>\n",
       "      <td>PRESENCIAL</td>\n",
       "      <td>NUEVA O REDISEÑO</td>\n",
       "      <td>28</td>\n",
       "    </tr>\n",
       "  </tbody>\n",
       "</table>\n",
       "</div>"
      ],
      "text/plain": [
       "       COHORTE PERÍODO ACADÉMICO CURSA           SEDE      CAMPUS  \\\n",
       "0  2016 - 2017             2016 - 2017      GUAYAQUIL  CENTENARIO   \n",
       "1  2016 - 2017             2016 - 2017      GUAYAQUIL  CENTENARIO   \n",
       "2  2016 - 2017             2016 - 2017  MATRIZ CUENCA   EL VECINO   \n",
       "3  2016 - 2017             2016 - 2017  MATRIZ CUENCA   EL VECINO   \n",
       "4  2016 - 2017             2016 - 2017  MATRIZ CUENCA   EL VECINO   \n",
       "\n",
       "             CARRERA                  ÁREA   MODALIDAD TIPO PROYECTOEDUCATIVO  \\\n",
       "0        COMPUTACIÓN  CIENCIA Y TECNOLOGÍA  PRESENCIAL       NUEVA O REDISEÑO   \n",
       "1       ELECTRICIDAD  CIENCIA Y TECNOLOGÍA  PRESENCIAL       NUEVA O REDISEÑO   \n",
       "2        COMPUTACIÓN  CIENCIA Y TECNOLOGÍA  PRESENCIAL       NUEVA O REDISEÑO   \n",
       "3   EDUCACIÓN BÁSICA             EDUCACION  PRESENCIAL       NUEVA O REDISEÑO   \n",
       "4  EDUCACIÓN INICIAL             EDUCACION  PRESENCIAL       NUEVA O REDISEÑO   \n",
       "\n",
       "   NRO ALUMNOS  \n",
       "0           69  \n",
       "1           50  \n",
       "2          124  \n",
       "3           38  \n",
       "4           28  "
      ]
     },
     "execution_count": 31,
     "metadata": {},
     "output_type": "execute_result"
    }
   ],
   "source": [
    "#Concatenamos todos los archivos\n",
    "df = pd.concat([dfx, df1, df2, df3, df4, df5, df6, df7, df8, df9, df0], ignore_index = True)\n",
    "df.head()"
   ]
  },
  {
   "cell_type": "code",
   "execution_count": 32,
   "metadata": {},
   "outputs": [
    {
     "data": {
      "text/plain": [
       "2947"
      ]
     },
     "execution_count": 32,
     "metadata": {},
     "output_type": "execute_result"
    }
   ],
   "source": [
    "#Limpieza de datos\n",
    "df.drop(df[df['PERÍODO ACADÉMICO CURSA'] == '2022 - 2022'].index, inplace = True)\n",
    "len(df.index)"
   ]
  },
  {
   "cell_type": "code",
   "execution_count": 41,
   "metadata": {},
   "outputs": [],
   "source": [
    "cohortes = df.COHORTE.unique()\n",
    "sedes = df.SEDE.unique()\n",
    "campus = df.CAMPUS.unique()\n",
    "carreras = df.CARRERA.unique()"
   ]
  },
  {
   "cell_type": "code",
   "execution_count": 34,
   "metadata": {},
   "outputs": [],
   "source": []
  },
  {
   "cell_type": "markdown",
   "metadata": {},
   "source": [
    "### Como se deberia analizar la data universitaria?\n",
    "De forma global?<br>\n",
    "Por Sede?<br>\n",
    "Por Area?<br>\n",
    "Por carrera?<br>\n",
    "Por cohorte?<br>\n",
    "Al nivel minimo de granuladidad (sede-carrera-cohorte)?"
   ]
  },
  {
   "cell_type": "code",
   "execution_count": 35,
   "metadata": {},
   "outputs": [
    {
     "data": {
      "image/png": "[encoded data removed]",
      "text/plain": [
       "<Figure size 432x288 with 1 Axes>"
      ]
     },
     "metadata": {
      "needs_background": "light"
     },
     "output_type": "display_data"
    }
   ],
   "source": [
    "#A nivel de cohortes\n",
    "cohovalues = []\n",
    "for coho in cohortes:\n",
    "    dx = df.loc[df['COHORTE'] == coho]\n",
    "    cohovalues.append(dx['NRO ALUMNOS'].sum())\n",
    "\n",
    "plt.figure()\n",
    "barras = plt.bar(cohortes, cohovalues, color=(0.1, 0.1, 0.1, 0.1),edgecolor='red')"
   ]
  },
  {
   "cell_type": "code",
   "execution_count": 40,
   "metadata": {},
   "outputs": [
    {
     "data": {
      "image/png": "[encoded data removed]",
      "text/plain": [
       "<Figure size 432x288 with 1 Axes>"
      ]
     },
     "metadata": {
      "needs_background": "light"
     },
     "output_type": "display_data"
    }
   ],
   "source": [
    "#A nivel de sede\n",
    "sedevalues = []\n",
    "for sede in sedes:\n",
    "    dx = df.loc[df['SEDE'] == sede]\n",
    "    sedevalues.append(dx['NRO ALUMNOS'].sum())\n",
    "\n",
    "plt.figure()\n",
    "barras = plt.bar(sedes, sedevalues, color=(0.1, 0.1, 0.1, 0.1),edgecolor='red')"
   ]
  },
  {
   "cell_type": "code",
   "execution_count": 42,
   "metadata": {},
   "outputs": [
    {
     "data": {
      "image/png": "[encoded data removed]",
      "text/plain": [
       "<Figure size 432x288 with 1 Axes>"
      ]
     },
     "metadata": {
      "needs_background": "light"
     },
     "output_type": "display_data"
    }
   ],
   "source": [
    "#A nivel de carrera\n",
    "carrvalues = []\n",
    "for carrera in carreras:\n",
    "    dx = df.loc[df['CARRERA'] == carrera]\n",
    "    carrvalues.append(dx['NRO ALUMNOS'].sum())\n",
    "\n",
    "plt.figure()\n",
    "barras = plt.bar(carreras, carrvalues, color=(0.1, 0.1, 0.1, 0.1),edgecolor='red')"
   ]
  },
  {
   "cell_type": "code",
   "execution_count": 38,
   "metadata": {},
   "outputs": [
    {
     "data": {
      "text/plain": [
       "array(['GUAYAQUIL', 'MATRIZ CUENCA', 'QUITO'], dtype=object)"
      ]
     },
     "execution_count": 38,
     "metadata": {},
     "output_type": "execute_result"
    }
   ],
   "source": [
    "sedes"
   ]
  }
 ],
 "metadata": {
  "interpreter": {
   "hash": "a60d46c41efb414509a1056710712d50c905a250c7a687ab2bbbf0aaa8f3a164"
  },
  "kernelspec": {
   "display_name": "Python 3.10.4 64-bit",
   "language": "python",
   "name": "python3"
  },
  "language_info": {
   "codemirror_mode": {
    "name": "ipython",
    "version": 3
   },
   "file_extension": ".py",
   "mimetype": "text/x-python",
   "name": "python",
   "nbconvert_exporter": "python",
   "pygments_lexer": "ipython3",
   "version": "3.10.4"
  },
  "orig_nbformat": 4
 },
 "nbformat": 4,
 "nbformat_minor": 2
}
